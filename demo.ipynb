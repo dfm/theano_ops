{
 "cells": [
  {
   "cell_type": "code",
   "execution_count": 1,
   "metadata": {},
   "outputs": [],
   "source": [
    "import theano\n",
    "import theano.tensor as tt\n",
    "\n",
    "import numpy as np\n",
    "\n",
    "from theano_ops.celerite.factor import FactorOp\n",
    "from theano_ops.celerite.solve import SolveOp"
   ]
  },
  {
   "cell_type": "code",
   "execution_count": 2,
   "metadata": {},
   "outputs": [],
   "source": [
    "a = tt.dvector()\n",
    "U = tt.dmatrix()\n",
    "V = tt.dmatrix()\n",
    "P = tt.dmatrix()\n",
    "Y = tt.dmatrix()\n",
    "\n",
    "factor_op = FactorOp(J=2)\n",
    "d, W, _ = factor_op(a, U, V, P)\n",
    "solve_op = SolveOp(J=2, n_rhs=1)\n",
    "Z, F, G = solve_op(U, P, d, W, Y)\n",
    "\n",
    "f = theano.function([a, U, V, P, Y], Z)\n",
    "g = theano.function([a, U, V, P, Y], theano.grad(tt.sum(Z), [a, U, V, P, Y]))"
   ]
  },
  {
   "cell_type": "code",
   "execution_count": 6,
   "metadata": {},
   "outputs": [
    {
     "name": "stdout",
     "output_type": "stream",
     "text": [
      "1000 loops, best of 3: 387 µs per loop\n",
      "1000 loops, best of 3: 950 µs per loop\n"
     ]
    }
   ],
   "source": [
    "N = 10000\n",
    "diag = np.random.rand(N)\n",
    "x = np.sort(np.random.uniform(0, 10, N))\n",
    "y = np.sin(x)[:, None]\n",
    "\n",
    "a_real = np.random.rand(2)\n",
    "c_real = np.random.rand(2)\n",
    "a_comp = np.array([])\n",
    "b_comp = np.array([])\n",
    "c_comp = np.array([])\n",
    "d_comp = np.array([])\n",
    "\n",
    "a_ = diag + np.sum(a_real) + np.sum(a_comp)\n",
    "\n",
    "U_ = np.concatenate((\n",
    "    a_real[None, :] + np.zeros_like(x)[:, None],\n",
    "    a_comp[None, :] * np.cos(d_comp[None, :] * x[:, None])\n",
    "    + b_comp[None, :] * np.sin(d_comp[None, :] * x[:, None]),\n",
    "    a_comp[None, :] * np.sin(d_comp[None, :] * x[:, None])\n",
    "    - b_comp[None, :] * np.cos(d_comp[None, :] * x[:, None]),\n",
    "), axis=1)\n",
    "\n",
    "V_ = np.concatenate((\n",
    "    np.zeros_like(a_real)[None, :] + np.ones_like(x)[:, None],\n",
    "    np.cos(d_comp[None, :] * x[:, None]),\n",
    "    np.sin(d_comp[None, :] * x[:, None]),\n",
    "), axis=1)\n",
    "\n",
    "dx = x[1:] - x[:-1]\n",
    "P_ = np.concatenate((\n",
    "    np.exp(-c_real[None, :] * dx[:, None]),\n",
    "    np.exp(-c_comp[None, :] * dx[:, None]),\n",
    "    np.exp(-c_comp[None, :] * dx[:, None]),\n",
    "), axis=1)\n",
    "\n",
    "%timeit f(a_, U_, V_, P_, y)\n",
    "%timeit g(a_, U_, V_, P_, y)"
   ]
  },
  {
   "cell_type": "code",
   "execution_count": null,
   "metadata": {},
   "outputs": [],
   "source": []
  }
 ],
 "metadata": {
  "kernelspec": {
   "display_name": "Python 3",
   "language": "python",
   "name": "python3"
  },
  "language_info": {
   "codemirror_mode": {
    "name": "ipython",
    "version": 3
   },
   "file_extension": ".py",
   "mimetype": "text/x-python",
   "name": "python",
   "nbconvert_exporter": "python",
   "pygments_lexer": "ipython3",
   "version": "3.6.1"
  }
 },
 "nbformat": 4,
 "nbformat_minor": 2
}
