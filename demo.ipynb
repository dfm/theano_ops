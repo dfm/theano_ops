{
 "cells": [
  {
   "cell_type": "code",
   "execution_count": 1,
   "metadata": {},
   "outputs": [],
   "source": [
    "%matplotlib inline\n",
    "\n",
    "import theano\n",
    "import theano.tensor as tt\n",
    "\n",
    "import numpy as np\n",
    "import matplotlib.pyplot as plt\n",
    "\n",
    "from theano_ops.celerite.factor import FactorOp\n",
    "from theano_ops.celerite.solve import SolveOp\n",
    "from theano_ops.celerite import terms\n",
    "from theano_ops.celerite.celerite import log_likelihood"
   ]
  },
  {
   "cell_type": "code",
   "execution_count": 2,
   "metadata": {},
   "outputs": [],
   "source": [
    "S0 = tt.dscalar()\n",
    "w0 = tt.dscalar()\n",
    "Q = tt.dscalar()\n",
    "kernel = terms.SHOTerm(S0=S0, w0=w0, Q=Q)"
   ]
  },
  {
   "cell_type": "code",
   "execution_count": 3,
   "metadata": {},
   "outputs": [],
   "source": [
    "omega = tt.dvector()\n",
    "f = theano.function([S0, w0, Q, omega], kernel.psd(omega), on_unused_input=\"ignore\")"
   ]
  },
  {
   "cell_type": "code",
   "execution_count": 5,
   "metadata": {},
   "outputs": [
    {
     "data": {
      "text/plain": [
       "[<matplotlib.lines.Line2D at 0x1c26c58f98>]"
      ]
     },
     "execution_count": 5,
     "metadata": {},
     "output_type": "execute_result"
    },
    {
     "data": {
      "image/png": "[encoded data removed]",
      "text/plain": [
       "<Figure size 432x288 with 1 Axes>"
      ]
     },
     "metadata": {},
     "output_type": "display_data"
    }
   ],
   "source": [
    "w = np.linspace(0.1, 100.0, 5000)\n",
    "plt.loglog(w, f(0.5, 0.1, 1.123, w))"
   ]
  },
  {
   "cell_type": "code",
   "execution_count": 6,
   "metadata": {},
   "outputs": [],
   "source": [
    "g = theano.function([S0, w0, Q, omega], theano.grad(tt.sum(kernel.psd(omega)), [S0, w0, Q]), on_unused_input=\"ignore\")"
   ]
  },
  {
   "cell_type": "code",
   "execution_count": 8,
   "metadata": {},
   "outputs": [
    {
     "data": {
      "text/plain": [
       "[array(700.57163609), array(35.18808407), array(313.57880704)]"
      ]
     },
     "execution_count": 8,
     "metadata": {},
     "output_type": "execute_result"
    }
   ],
   "source": [
    "g(0.5, 10.0, 1.123, w)"
   ]
  },
  {
   "cell_type": "code",
   "execution_count": 6,
   "metadata": {},
   "outputs": [],
   "source": [
    "N = 100\n",
    "diag_ = np.random.rand(N)\n",
    "x = np.sort(np.random.uniform(0, 10, N))\n",
    "y = np.sin(x)"
   ]
  },
  {
   "cell_type": "code",
   "execution_count": 7,
   "metadata": {},
   "outputs": [
    {
     "data": {
      "text/plain": [
       "array([[ 6.43240667e+00,  5.52854340e+00,  3.59898535e+00, ...,\n",
       "        -6.79954417e-20,  4.47922050e-19,  5.64698168e-19],\n",
       "       [ 5.52854340e+00,  6.17448239e+00,  4.15006109e+00, ...,\n",
       "         8.34920983e-19,  3.57934565e-19,  5.64441887e-19],\n",
       "       [ 3.59898535e+00,  4.15006109e+00,  6.49486752e+00, ...,\n",
       "         6.38599729e-18, -4.28332815e-19,  2.64581550e-19],\n",
       "       ...,\n",
       "       [-6.79954417e-20,  8.34920983e-19,  6.38599729e-18, ...,\n",
       "         6.07301226e+00, -9.90819708e-01, -5.53556517e-01],\n",
       "       [ 4.47922050e-19,  3.57934565e-19, -4.28332815e-19, ...,\n",
       "        -9.90819708e-01,  5.88233531e+00,  4.56003067e+00],\n",
       "       [ 5.64698168e-19,  5.64441887e-19,  2.64581550e-19, ...,\n",
       "        -5.53556517e-01,  4.56003067e+00,  6.53471716e+00]])"
      ]
     },
     "execution_count": 7,
     "metadata": {},
     "output_type": "execute_result"
    }
   ],
   "source": [
    "f(0.5, 10.0, 1.123, x, diag_)"
   ]
  },
  {
   "cell_type": "code",
   "execution_count": 9,
   "metadata": {},
   "outputs": [
    {
     "data": {
      "text/plain": [
       "<matplotlib.image.AxesImage at 0x1c1c347898>"
      ]
     },
     "execution_count": 9,
     "metadata": {},
     "output_type": "execute_result"
    },
    {
     "data": {
      "image/png": "[encoded data removed]",
      "text/plain": [
       "<Figure size 432x288 with 1 Axes>"
      ]
     },
     "metadata": {},
     "output_type": "display_data"
    }
   ],
   "source": [
    "plt.imshow(f(0.5, 10.0, 1.123, x, diag_))"
   ]
  },
  {
   "cell_type": "code",
   "execution_count": 5,
   "metadata": {},
   "outputs": [
    {
     "data": {
      "text/plain": [
       "(Alloc.0, Alloc.0, Reshape{1}.0, Reshape{1}.0, Reshape{1}.0, Reshape{1}.0)"
      ]
     },
     "execution_count": 5,
     "metadata": {},
     "output_type": "execute_result"
    }
   ],
   "source": [
    "diag_ = tt.dvector()\n",
    "x_ = tt.dvector()\n",
    "y_ = tt.dvector()\n",
    "loglike, z, d, W, a, U, V, P = log_likelihood(kernel, diag, x, y)\n",
    "coeffs = kernel.get_coefficients()\n",
    "coeffs"
   ]
  },
  {
   "cell_type": "code",
   "execution_count": 10,
   "metadata": {},
   "outputs": [],
   "source": [
    "f = theano.function([S0, w0, Q], coeffs[3], on_unused_input=\"ignore\")\n",
    "g = theano.function([S0, w0, Q], theano.grad(loglike, [S0, w0, Q]), on_unused_input=\"ignore\")"
   ]
  },
  {
   "cell_type": "code",
   "execution_count": 11,
   "metadata": {},
   "outputs": [
    {
     "data": {
      "text/plain": [
       "[array(-297.88030836), array(-55.39903664), array(-37.4005025)]"
      ]
     },
     "execution_count": 11,
     "metadata": {},
     "output_type": "execute_result"
    }
   ],
   "source": [
    "g(0.5, 10.0, 1.123)"
   ]
  },
  {
   "cell_type": "code",
   "execution_count": 5,
   "metadata": {},
   "outputs": [],
   "source": [
    "a = tt.dvector()\n",
    "U = tt.dmatrix()\n",
    "V = tt.dmatrix()\n",
    "P = tt.dmatrix()\n",
    "Y = tt.dmatrix()\n",
    "\n",
    "factor_op = FactorOp(J=2)\n",
    "d, W, _ = factor_op(a, U, V, P)\n",
    "solve_op = SolveOp(J=2, n_rhs=1)\n",
    "Z, F, G = solve_op(U, P, d, W, Y)\n",
    "\n",
    "f = theano.function([a, U, V, P, Y], Z)\n",
    "g = theano.function([a, U, V, P, Y], theano.grad(tt.sum(Z), [a, U, V, P, Y]))"
   ]
  },
  {
   "cell_type": "code",
   "execution_count": 6,
   "metadata": {},
   "outputs": [
    {
     "name": "stdout",
     "output_type": "stream",
     "text": [
      "1000 loops, best of 3: 387 µs per loop\n",
      "1000 loops, best of 3: 950 µs per loop\n"
     ]
    }
   ],
   "source": [
    "N = 10000\n",
    "diag = np.random.rand(N)\n",
    "x = np.sort(np.random.uniform(0, 10, N))\n",
    "y = np.sin(x)[:, None]\n",
    "\n",
    "a_real = np.random.rand(2)\n",
    "c_real = np.random.rand(2)\n",
    "a_comp = np.array([])\n",
    "b_comp = np.array([])\n",
    "c_comp = np.array([])\n",
    "d_comp = np.array([])\n",
    "\n",
    "a_ = diag + np.sum(a_real) + np.sum(a_comp)\n",
    "\n",
    "U_ = np.concatenate((\n",
    "    a_real[None, :] + np.zeros_like(x)[:, None],\n",
    "    a_comp[None, :] * np.cos(d_comp[None, :] * x[:, None])\n",
    "    + b_comp[None, :] * np.sin(d_comp[None, :] * x[:, None]),\n",
    "    a_comp[None, :] * np.sin(d_comp[None, :] * x[:, None])\n",
    "    - b_comp[None, :] * np.cos(d_comp[None, :] * x[:, None]),\n",
    "), axis=1)\n",
    "\n",
    "V_ = np.concatenate((\n",
    "    np.zeros_like(a_real)[None, :] + np.ones_like(x)[:, None],\n",
    "    np.cos(d_comp[None, :] * x[:, None]),\n",
    "    np.sin(d_comp[None, :] * x[:, None]),\n",
    "), axis=1)\n",
    "\n",
    "dx = x[1:] - x[:-1]\n",
    "P_ = np.concatenate((\n",
    "    np.exp(-c_real[None, :] * dx[:, None]),\n",
    "    np.exp(-c_comp[None, :] * dx[:, None]),\n",
    "    np.exp(-c_comp[None, :] * dx[:, None]),\n",
    "), axis=1)\n",
    "\n",
    "%timeit f(a_, U_, V_, P_, y)\n",
    "%timeit g(a_, U_, V_, P_, y)"
   ]
  },
  {
   "cell_type": "code",
   "execution_count": 12,
   "metadata": {},
   "outputs": [
    {
     "data": {
      "text/plain": [
       "Alloc.0"
      ]
     },
     "execution_count": 12,
     "metadata": {},
     "output_type": "execute_result"
    }
   ],
   "source": [
    "tt.cast(tt.zeros(5), theano.config.floatX)"
   ]
  },
  {
   "cell_type": "code",
   "execution_count": 20,
   "metadata": {},
   "outputs": [
    {
     "data": {
      "text/plain": [
       "InplaceDimShuffle{x}.0"
      ]
     },
     "execution_count": 20,
     "metadata": {},
     "output_type": "execute_result"
    }
   ],
   "source": [
    "x = tt.dscalar()\n",
    "\n",
    "x[None]"
   ]
  },
  {
   "cell_type": "code",
   "execution_count": 24,
   "metadata": {},
   "outputs": [],
   "source": [
    "f = theano.function([x], tt.reshape(x, (x.size, )))"
   ]
  },
  {
   "cell_type": "code",
   "execution_count": 25,
   "metadata": {},
   "outputs": [
    {
     "data": {
      "text/plain": [
       "array([0.1])"
      ]
     },
     "execution_count": 25,
     "metadata": {},
     "output_type": "execute_result"
    }
   ],
   "source": [
    "f(0.1)"
   ]
  },
  {
   "cell_type": "code",
   "execution_count": null,
   "metadata": {},
   "outputs": [],
   "source": []
  }
 ],
 "metadata": {
  "kernelspec": {
   "display_name": "Python 3",
   "language": "python",
   "name": "python3"
  },
  "language_info": {
   "codemirror_mode": {
    "name": "ipython",
    "version": 3
   },
   "file_extension": ".py",
   "mimetype": "text/x-python",
   "name": "python",
   "nbconvert_exporter": "python",
   "pygments_lexer": "ipython3",
   "version": "3.6.1"
  }
 },
 "nbformat": 4,
 "nbformat_minor": 2
}
